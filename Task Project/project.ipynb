{
 "cells": [
  {
   "cell_type": "markdown",
   "metadata": {},
   "source": [
    "## Real-time Speech-to-Text and Response System using Hugging Face Transformers (HFT)\n"
   ]
  },
  {
   "cell_type": "markdown",
   "metadata": {},
   "source": [
    "### Installing necessary packages and importing necessary modules"
   ]
  },
  {
   "cell_type": "code",
   "execution_count": 34,
   "metadata": {},
   "outputs": [
    {
     "name": "stdout",
     "output_type": "stream",
     "text": [
      "Requirement already satisfied: transformers in c:\\users\\ravik\\appdata\\local\\programs\\python\\python310\\lib\\site-packages (4.48.1)\n",
      "Requirement already satisfied: regex!=2019.12.17 in c:\\users\\ravik\\appdata\\local\\programs\\python\\python310\\lib\\site-packages (from transformers) (2024.11.6)\n",
      "Requirement already satisfied: tokenizers<0.22,>=0.21 in c:\\users\\ravik\\appdata\\local\\programs\\python\\python310\\lib\\site-packages (from transformers) (0.21.0)\n",
      "Requirement already satisfied: pyyaml>=5.1 in c:\\users\\ravik\\appdata\\local\\programs\\python\\python310\\lib\\site-packages (from transformers) (6.0)\n",
      "Requirement already satisfied: filelock in c:\\users\\ravik\\appdata\\local\\programs\\python\\python310\\lib\\site-packages (from transformers) (3.17.0)\n",
      "Requirement already satisfied: huggingface-hub<1.0,>=0.24.0 in c:\\users\\ravik\\appdata\\local\\programs\\python\\python310\\lib\\site-packages (from transformers) (0.27.1)\n",
      "Requirement already satisfied: safetensors>=0.4.1 in c:\\users\\ravik\\appdata\\local\\programs\\python\\python310\\lib\\site-packages (from transformers) (0.5.2)\n",
      "Requirement already satisfied: numpy>=1.17 in c:\\users\\ravik\\appdata\\local\\programs\\python\\python310\\lib\\site-packages (from transformers) (1.24.2)\n",
      "Requirement already satisfied: packaging>=20.0 in c:\\users\\ravik\\appdata\\local\\programs\\python\\python310\\lib\\site-packages (from transformers) (23.0)\n",
      "Requirement already satisfied: requests in c:\\users\\ravik\\appdata\\local\\programs\\python\\python310\\lib\\site-packages (from transformers) (2.28.2)\n",
      "Requirement already satisfied: tqdm>=4.27 in c:\\users\\ravik\\appdata\\local\\programs\\python\\python310\\lib\\site-packages (from transformers) (4.67.1)\n",
      "Requirement already satisfied: fsspec>=2023.5.0 in c:\\users\\ravik\\appdata\\local\\programs\\python\\python310\\lib\\site-packages (from huggingface-hub<1.0,>=0.24.0->transformers) (2024.12.0)\n",
      "Requirement already satisfied: typing-extensions>=3.7.4.3 in c:\\users\\ravik\\appdata\\local\\programs\\python\\python310\\lib\\site-packages (from huggingface-hub<1.0,>=0.24.0->transformers) (4.12.2)\n",
      "Requirement already satisfied: colorama in c:\\users\\ravik\\appdata\\local\\programs\\python\\python310\\lib\\site-packages (from tqdm>=4.27->transformers) (0.4.6)\n",
      "Requirement already satisfied: certifi>=2017.4.17 in c:\\users\\ravik\\appdata\\local\\programs\\python\\python310\\lib\\site-packages (from requests->transformers) (2022.12.7)\n",
      "Requirement already satisfied: idna<4,>=2.5 in c:\\users\\ravik\\appdata\\local\\programs\\python\\python310\\lib\\site-packages (from requests->transformers) (3.4)\n",
      "Requirement already satisfied: charset-normalizer<4,>=2 in c:\\users\\ravik\\appdata\\local\\programs\\python\\python310\\lib\\site-packages (from requests->transformers) (3.0.1)\n",
      "Requirement already satisfied: urllib3<1.27,>=1.21.1 in c:\\users\\ravik\\appdata\\local\\programs\\python\\python310\\lib\\site-packages (from requests->transformers) (1.26.14)\n",
      "Note: you may need to restart the kernel to use updated packages.\n"
     ]
    },
    {
     "name": "stderr",
     "output_type": "stream",
     "text": [
      "\n",
      "[notice] A new release of pip available: 22.2.2 -> 24.3.1\n",
      "[notice] To update, run: python.exe -m pip install --upgrade pip\n"
     ]
    },
    {
     "name": "stdout",
     "output_type": "stream",
     "text": [
      "Note: you may need to restart the kernel to use updated packages.Requirement already satisfied: torch in c:\\users\\ravik\\appdata\\local\\programs\\python\\python310\\lib\\site-packages (2.5.1)\n",
      "Requirement already satisfied: torchaudio in c:\\users\\ravik\\appdata\\local\\programs\\python\\python310\\lib\\site-packages (2.5.1)\n",
      "Requirement already satisfied: sympy==1.13.1 in c:\\users\\ravik\\appdata\\local\\programs\\python\\python310\\lib\\site-packages (from torch) (1.13.1)\n",
      "Requirement already satisfied: typing-extensions>=4.8.0 in c:\\users\\ravik\\appdata\\local\\programs\\python\\python310\\lib\\site-packages (from torch) (4.12.2)\n",
      "Requirement already satisfied: fsspec in c:\\users\\ravik\\appdata\\local\\programs\\python\\python310\\lib\\site-packages (from torch) (2024.12.0)\n",
      "Requirement already satisfied: filelock in c:\\users\\ravik\\appdata\\local\\programs\\python\\python310\\lib\\site-packages (from torch) (3.17.0)\n",
      "Requirement already satisfied: networkx in c:\\users\\ravik\\appdata\\local\\programs\\python\\python310\\lib\\site-packages (from torch) (3.4.2)\n",
      "Requirement already satisfied: jinja2 in c:\\users\\ravik\\appdata\\local\\programs\\python\\python310\\lib\\site-packages (from torch) (3.1.2)\n",
      "Requirement already satisfied: mpmath<1.4,>=1.1.0 in c:\\users\\ravik\\appdata\\local\\programs\\python\\python310\\lib\\site-packages (from sympy==1.13.1->torch) (1.3.0)\n",
      "Requirement already satisfied: MarkupSafe>=2.0 in c:\\users\\ravik\\appdata\\local\\programs\\python\\python310\\lib\\site-packages (from jinja2->torch) (2.1.2)\n",
      "\n"
     ]
    },
    {
     "name": "stderr",
     "output_type": "stream",
     "text": [
      "\n",
      "[notice] A new release of pip available: 22.2.2 -> 24.3.1\n",
      "[notice] To update, run: python.exe -m pip install --upgrade pip\n"
     ]
    },
    {
     "name": "stdout",
     "output_type": "stream",
     "text": [
      "Requirement already satisfied: scipy in c:\\users\\ravik\\appdata\\local\\programs\\python\\python310\\lib\\site-packages (1.10.0)\n",
      "Requirement already satisfied: numpy<1.27.0,>=1.19.5 in c:\\users\\ravik\\appdata\\local\\programs\\python\\python310\\lib\\site-packages (from scipy) (1.24.2)\n",
      "Note: you may need to restart the kernel to use updated packages.\n"
     ]
    },
    {
     "name": "stderr",
     "output_type": "stream",
     "text": [
      "\n",
      "[notice] A new release of pip available: 22.2.2 -> 24.3.1\n",
      "[notice] To update, run: python.exe -m pip install --upgrade pip\n"
     ]
    },
    {
     "name": "stdout",
     "output_type": "stream",
     "text": [
      "Requirement already satisfied: sounddevice in c:\\users\\ravik\\appdata\\local\\programs\\python\\python310\\lib\\site-packages (0.5.1)\n",
      "Requirement already satisfied: CFFI>=1.0 in c:\\users\\ravik\\appdata\\local\\programs\\python\\python310\\lib\\site-packages (from sounddevice) (1.15.1)\n",
      "Requirement already satisfied: pycparser in c:\\users\\ravik\\appdata\\local\\programs\\python\\python310\\lib\\site-packages (from CFFI>=1.0->sounddevice) (2.21)\n",
      "Note: you may need to restart the kernel to use updated packages.\n"
     ]
    },
    {
     "name": "stderr",
     "output_type": "stream",
     "text": [
      "\n",
      "[notice] A new release of pip available: 22.2.2 -> 24.3.1\n",
      "[notice] To update, run: python.exe -m pip install --upgrade pip\n"
     ]
    },
    {
     "name": "stdout",
     "output_type": "stream",
     "text": [
      "Requirement already satisfied: gTTS in c:\\users\\ravik\\appdata\\local\\programs\\python\\python310\\lib\\site-packages (2.5.4)\n",
      "Requirement already satisfied: requests<3,>=2.27 in c:\\users\\ravik\\appdata\\local\\programs\\python\\python310\\lib\\site-packages (from gTTS) (2.28.2)\n",
      "Requirement already satisfied: click<8.2,>=7.1 in c:\\users\\ravik\\appdata\\local\\programs\\python\\python310\\lib\\site-packages (from gTTS) (8.1.8)\n",
      "Requirement already satisfied: colorama in c:\\users\\ravik\\appdata\\local\\programs\\python\\python310\\lib\\site-packages (from click<8.2,>=7.1->gTTS) (0.4.6)\n",
      "Requirement already satisfied: urllib3<1.27,>=1.21.1 in c:\\users\\ravik\\appdata\\local\\programs\\python\\python310\\lib\\site-packages (from requests<3,>=2.27->gTTS) (1.26.14)\n",
      "Requirement already satisfied: certifi>=2017.4.17 in c:\\users\\ravik\\appdata\\local\\programs\\python\\python310\\lib\\site-packages (from requests<3,>=2.27->gTTS) (2022.12.7)\n",
      "Requirement already satisfied: charset-normalizer<4,>=2 in c:\\users\\ravik\\appdata\\local\\programs\\python\\python310\\lib\\site-packages (from requests<3,>=2.27->gTTS) (3.0.1)\n",
      "Requirement already satisfied: idna<4,>=2.5 in c:\\users\\ravik\\appdata\\local\\programs\\python\\python310\\lib\\site-packages (from requests<3,>=2.27->gTTS) (3.4)\n",
      "Note: you may need to restart the kernel to use updated packages.\n"
     ]
    },
    {
     "name": "stderr",
     "output_type": "stream",
     "text": [
      "\n",
      "[notice] A new release of pip available: 22.2.2 -> 24.3.1\n",
      "[notice] To update, run: python.exe -m pip install --upgrade pip\n"
     ]
    },
    {
     "name": "stdout",
     "output_type": "stream",
     "text": [
      "Requirement already satisfied: playsound in c:\\users\\ravik\\appdata\\local\\programs\\python\\python310\\lib\\site-packages (1.3.0)\n",
      "Note: you may need to restart the kernel to use updated packages.\n"
     ]
    },
    {
     "name": "stderr",
     "output_type": "stream",
     "text": [
      "\n",
      "[notice] A new release of pip available: 22.2.2 -> 24.3.1\n",
      "[notice] To update, run: python.exe -m pip install --upgrade pip\n"
     ]
    },
    {
     "name": "stdout",
     "output_type": "stream",
     "text": [
      "Requirement already satisfied: flask in c:\\users\\ravik\\appdata\\local\\programs\\python\\python310\\lib\\site-packages (3.1.0)\n",
      "Requirement already satisfied: Werkzeug>=3.1 in c:\\users\\ravik\\appdata\\local\\programs\\python\\python310\\lib\\site-packages (from flask) (3.1.3)\n",
      "Requirement already satisfied: blinker>=1.9 in c:\\users\\ravik\\appdata\\local\\programs\\python\\python310\\lib\\site-packages (from flask) (1.9.0)\n",
      "Requirement already satisfied: itsdangerous>=2.2 in c:\\users\\ravik\\appdata\\local\\programs\\python\\python310\\lib\\site-packages (from flask) (2.2.0)\n",
      "Requirement already satisfied: click>=8.1.3 in c:\\users\\ravik\\appdata\\local\\programs\\python\\python310\\lib\\site-packages (from flask) (8.1.8)\n",
      "Requirement already satisfied: Jinja2>=3.1.2 in c:\\users\\ravik\\appdata\\local\\programs\\python\\python310\\lib\\site-packages (from flask) (3.1.2)\n",
      "Requirement already satisfied: colorama in c:\\users\\ravik\\appdata\\local\\programs\\python\\python310\\lib\\site-packages (from click>=8.1.3->flask) (0.4.6)\n",
      "Requirement already satisfied: MarkupSafe>=2.0 in c:\\users\\ravik\\appdata\\local\\programs\\python\\python310\\lib\\site-packages (from Jinja2>=3.1.2->flask) (2.1.2)\n",
      "Note: you may need to restart the kernel to use updated packages.\n"
     ]
    },
    {
     "name": "stderr",
     "output_type": "stream",
     "text": [
      "\n",
      "[notice] A new release of pip available: 22.2.2 -> 24.3.1\n",
      "[notice] To update, run: python.exe -m pip install --upgrade pip\n"
     ]
    },
    {
     "name": "stdout",
     "output_type": "stream",
     "text": [
      "Requirement already satisfied: numpy in c:\\users\\ravik\\appdata\\local\\programs\\python\\python310\\lib\\site-packages (1.24.2)\n",
      "Note: you may need to restart the kernel to use updated packages.\n"
     ]
    },
    {
     "name": "stderr",
     "output_type": "stream",
     "text": [
      "\n",
      "[notice] A new release of pip available: 22.2.2 -> 24.3.1\n",
      "[notice] To update, run: python.exe -m pip install --upgrade pip\n"
     ]
    }
   ],
   "source": [
    "# Installing necessary packages\n",
    "%pip install transformers\n",
    "%pip install torch torchaudio\n",
    "%pip install scipy\n",
    "%pip install sounddevice \n",
    "%pip install gTTS\n",
    "%pip install playsound\n",
    "%pip install flask\n",
    "%pip install numpy"
   ]
  },
  {
   "cell_type": "code",
   "execution_count": 109,
   "metadata": {},
   "outputs": [],
   "source": [
    "# Importing necessary modules\n",
    "from transformers import pipeline\n",
    "from transformers import BlenderbotTokenizer,BlenderbotForConditionalGeneration\n",
    "from gtts import gTTS\n",
    "import sounddevice as sd\n",
    "import torch\n",
    "from playsound import playsound\n",
    "import scipy.io.wavfile as wav\n",
    "import numpy as np\n",
    "from flask import Flask,send_file"
   ]
  },
  {
   "cell_type": "markdown",
   "metadata": {},
   "source": [
    "### Capturing the audio input using sounddevice"
   ]
  },
  {
   "cell_type": "code",
   "execution_count": 110,
   "metadata": {},
   "outputs": [
    {
     "name": "stdout",
     "output_type": "stream",
     "text": [
      "Recording Started...\n",
      "Recording Ended...\n",
      "Recording Done Sucessfully\n"
     ]
    }
   ],
   "source": [
    "# Callback function for audio input stream\n",
    "def processing(data,frames,time,status):\n",
    "    input_audio.append(data.copy()) # Appends the copy of the audio chunk to the list named input_audio\n",
    "\n",
    "input_audio = []  # List to store chunks of the recorded audio\n",
    "\n",
    "# Creating an audio input stream for recording\n",
    "with sd.InputStream(samplerate=44100,channels=1,callback=processing): \n",
    "    print(\"Recording Started...\")\n",
    "    input(\"Press any key to stop recording\")\n",
    "    print(\"Recording Ended...\")\n",
    "\n",
    "audio = np.concatenate(input_audio,axis=0) # Combines all recorded audio chunks\n",
    "\n",
    "# Saving the recording as a .wav file\n",
    "wav.write(\"audio_record.wav\",44100,audio)\n",
    "print(\"Recording Done Sucessfully\")"
   ]
  },
  {
   "cell_type": "markdown",
   "metadata": {},
   "source": [
    "### Converting the recorded speech into text using Whisper (HFT)"
   ]
  },
  {
   "cell_type": "code",
   "execution_count": 111,
   "metadata": {},
   "outputs": [
    {
     "name": "stderr",
     "output_type": "stream",
     "text": [
      "Device set to use cpu\n"
     ]
    },
    {
     "name": "stdout",
     "output_type": "stream",
     "text": [
      "\n",
      "Transcribed text:  How was the weather today?\n"
     ]
    }
   ],
   "source": [
    "# Converting the recorded speech into text\n",
    "transcriber = pipeline(\"automatic-speech-recognition\",model=\"openai/whisper-small\",generate_kwargs={\"language\": \"en\"}) # Creating a Pipeline\n",
    "transcript = transcriber(\"audio_record.wav\") # Transcribing the speech to text\n",
    "resultant_text = transcript[\"text\"] # Obtaining the transcribed text\n",
    "print(\"\\nTranscribed text:\",resultant_text) # Displaying the transcribed text"
   ]
  },
  {
   "cell_type": "markdown",
   "metadata": {},
   "source": [
    "### Generating response based on the transcribed text using Facebook-Blenderbot (HFT)"
   ]
  },
  {
   "cell_type": "code",
   "execution_count": 112,
   "metadata": {},
   "outputs": [
    {
     "name": "stdout",
     "output_type": "stream",
     "text": [
      "Input Prompt:  How was the weather today?\n",
      "Bot response:  It was a little chilly, but not too bad. It was nice to have a cool breeze.\n"
     ]
    }
   ],
   "source": [
    "# Generating a response based on the transcribed text\n",
    "\n",
    "# Loading the BlenderBot model and tokenizer\n",
    "model_name = \"facebook/blenderbot-400M-distill\"\n",
    "tokenizer = BlenderbotTokenizer.from_pretrained(model_name)\n",
    "model = BlenderbotForConditionalGeneration.from_pretrained(model_name)\n",
    "\n",
    "# Function for the bot\n",
    "def bot(user_input):\n",
    "    inputs = tokenizer(user_input, return_tensors='pt') # Encoding the input\n",
    "    reply_ids = model.generate(**inputs,do_sample=True,top_p=0.9) # Generating the response with top-p sampling method\n",
    "    response = tokenizer.decode(reply_ids[0], skip_special_tokens=True) # Decoding the output\n",
    "    return response\n",
    "\n",
    "resultant_response = bot(resultant_text) # Obtaining the response text\n",
    "print(\"Input Prompt:\",resultant_text)\n",
    "print(\"Bot response:\", resultant_response) # Displaying the response text"
   ]
  },
  {
   "cell_type": "markdown",
   "metadata": {},
   "source": [
    "### Converting the response to speech using gTTS (Google Text-to-Speech)"
   ]
  },
  {
   "cell_type": "code",
   "execution_count": 113,
   "metadata": {},
   "outputs": [],
   "source": [
    "# Converting the response to speech\n",
    "resultant_speech = gTTS(text=resultant_response,lang=\"en\") # Using gTTS to convert the text to speech\n",
    "resultant_speech.save(\"audio_response.mp3\") # Saving the audio file\n",
    "playsound(r\"C:\\Users\\ravik\\OneDrive\\Desktop\\Internship\\audio_response.mp3\") # Playing the audio file"
   ]
  },
  {
   "cell_type": "markdown",
   "metadata": {},
   "source": [
    "### Displaying the responses in a web interface using Flask"
   ]
  },
  {
   "cell_type": "code",
   "execution_count": 114,
   "metadata": {},
   "outputs": [
    {
     "name": "stdout",
     "output_type": "stream",
     "text": [
      " * Serving Flask app '__main__'\n",
      " * Debug mode: off\n"
     ]
    },
    {
     "name": "stderr",
     "output_type": "stream",
     "text": [
      "WARNING: This is a development server. Do not use it in a production deployment. Use a production WSGI server instead.\n",
      " * Running on http://127.0.0.1:5000\n",
      "Press CTRL+C to quit\n",
      "127.0.0.1 - - [26/Jan/2025 23:51:38] \"GET / HTTP/1.1\" 200 -\n",
      "127.0.0.1 - - [26/Jan/2025 23:51:38] \"GET /audio1 HTTP/1.1\" 206 -\n",
      "127.0.0.1 - - [26/Jan/2025 23:51:38] \"GET /audio2 HTTP/1.1\" 200 -\n",
      "127.0.0.1 - - [26/Jan/2025 23:51:39] \"GET /audio2 HTTP/1.1\" 206 -\n",
      "127.0.0.1 - - [26/Jan/2025 23:51:39] \"GET /favicon.ico HTTP/1.1\" 404 -\n",
      "127.0.0.1 - - [26/Jan/2025 23:51:53] \"GET /favicon.ico HTTP/1.1\" 404 -\n",
      "127.0.0.1 - - [26/Jan/2025 23:51:53] \"GET /audio1 HTTP/1.1\" 206 -\n",
      "127.0.0.1 - - [26/Jan/2025 23:52:01] \"GET /audio2 HTTP/1.1\" 206 -\n"
     ]
    }
   ],
   "source": [
    "# Using flask for web interface\n",
    "app = Flask(__name__) # Creates a flask app\n",
    "\n",
    "@app.route(\"/\") # Creating the route for the webpage\n",
    "def display(): # Function to display the contents \n",
    "    content = \"\"\"\n",
    "        <html>\n",
    "            <body style=\"text-align:center; margin-top:150px;\">\n",
    "                <div style=\"display:flex;justify-content:center;align-items:center;gap:10px;\">\n",
    "                    <h2>Input Audio:</h2>\n",
    "                    <audio controls style=\"width:300px;\">\n",
    "                        <source src=\"/audio1\" type=\"audio/wav\">\n",
    "                    </audio>\n",
    "                </div>\n",
    "                <h2><br>Transcribed Text: {}</h2>\n",
    "                <h2><br>Bot Response:{}</h2>\n",
    "                <div style=\"display:flex;justify-content:center;align-items:center;gap:10px;margin-top:50px;\">\n",
    "                    <h2>Response Audio:</h2>\n",
    "                    <audio controls style=\"width:300px;\">\n",
    "                        <source src=\"/audio2\" type=\"audio/mp3\">\n",
    "                    </audio>\n",
    "                </div>   \n",
    "            </body>\n",
    "        </html>\"\"\".format(resultant_text,resultant_response)     \n",
    "    \n",
    "    return content   \n",
    "\n",
    "@app.route(\"/audio1\") # Creating the route for the input audio\n",
    "def play_input_audio(): # Function to display the input audio\n",
    "    aud = send_file(\"audio_record.wav\",mimetype=\"audio/wav\")\n",
    "    return aud\n",
    "\n",
    "@app.route(\"/audio2\") # Creating the route for the response audio\n",
    "def play_response_audio(): # Function to display the response audio\n",
    "    aud = send_file(\"audio_response.mp3\",mimetype=\"audio/mp3\")\n",
    "    return aud\n",
    "\n",
    "app.run() # Runs flask app\n",
    "    "
   ]
  }
 ],
 "metadata": {
  "kernelspec": {
   "display_name": "Python 3",
   "language": "python",
   "name": "python3"
  },
  "language_info": {
   "codemirror_mode": {
    "name": "ipython",
    "version": 3
   },
   "file_extension": ".py",
   "mimetype": "text/x-python",
   "name": "python",
   "nbconvert_exporter": "python",
   "pygments_lexer": "ipython3",
   "version": "3.10.7"
  }
 },
 "nbformat": 4,
 "nbformat_minor": 2
}
